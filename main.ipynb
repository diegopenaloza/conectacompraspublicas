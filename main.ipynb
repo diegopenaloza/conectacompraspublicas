{
 "cells": [
  {
   "cell_type": "code",
   "execution_count": 1,
   "id": "bbbc661a-71ce-440d-a8a4-a64c8529bc02",
   "metadata": {
    "tags": []
   },
   "outputs": [],
   "source": [
    "from neo4j import GraphDatabase\n",
    "import pandas as pd"
   ]
  },
  {
   "cell_type": "code",
   "execution_count": 11,
   "id": "947cb7e1-3d9b-4bf5-bd1b-0b0b9fef11e6",
   "metadata": {
    "collapsed": true,
    "jupyter": {
     "outputs_hidden": true
    },
    "tags": []
   },
   "outputs": [
    {
     "name": "stdout",
     "output_type": "stream",
     "text": [
      "Requirement already satisfied: pyvis in c:\\users\\diego\\anaconda3\\envs\\projects\\lib\\site-packages (0.3.2)\n",
      "Requirement already satisfied: ipython>=5.3.0 in c:\\users\\diego\\anaconda3\\envs\\projects\\lib\\site-packages (from pyvis) (8.15.0)\n",
      "Requirement already satisfied: jinja2>=2.9.6 in c:\\users\\diego\\anaconda3\\envs\\projects\\lib\\site-packages (from pyvis) (3.1.2)\n",
      "Requirement already satisfied: jsonpickle>=1.4.1 in c:\\users\\diego\\anaconda3\\envs\\projects\\lib\\site-packages (from pyvis) (3.0.2)\n",
      "Requirement already satisfied: networkx>=1.11 in c:\\users\\diego\\anaconda3\\envs\\projects\\lib\\site-packages (from pyvis) (3.1)\n",
      "Requirement already satisfied: backcall in c:\\users\\diego\\anaconda3\\envs\\projects\\lib\\site-packages (from ipython>=5.3.0->pyvis) (0.2.0)\n",
      "Requirement already satisfied: decorator in c:\\users\\diego\\anaconda3\\envs\\projects\\lib\\site-packages (from ipython>=5.3.0->pyvis) (5.1.1)\n",
      "Requirement already satisfied: jedi>=0.16 in c:\\users\\diego\\anaconda3\\envs\\projects\\lib\\site-packages (from ipython>=5.3.0->pyvis) (0.19.0)\n",
      "Requirement already satisfied: matplotlib-inline in c:\\users\\diego\\anaconda3\\envs\\projects\\lib\\site-packages (from ipython>=5.3.0->pyvis) (0.1.6)\n",
      "Requirement already satisfied: pickleshare in c:\\users\\diego\\anaconda3\\envs\\projects\\lib\\site-packages (from ipython>=5.3.0->pyvis) (0.7.5)\n",
      "Requirement already satisfied: prompt-toolkit!=3.0.37,<3.1.0,>=3.0.30 in c:\\users\\diego\\anaconda3\\envs\\projects\\lib\\site-packages (from ipython>=5.3.0->pyvis) (3.0.39)\n",
      "Requirement already satisfied: pygments>=2.4.0 in c:\\users\\diego\\anaconda3\\envs\\projects\\lib\\site-packages (from ipython>=5.3.0->pyvis) (2.16.1)\n",
      "Requirement already satisfied: stack-data in c:\\users\\diego\\anaconda3\\envs\\projects\\lib\\site-packages (from ipython>=5.3.0->pyvis) (0.6.2)\n",
      "Requirement already satisfied: traitlets>=5 in c:\\users\\diego\\anaconda3\\envs\\projects\\lib\\site-packages (from ipython>=5.3.0->pyvis) (5.10.0)\n",
      "Requirement already satisfied: colorama in c:\\users\\diego\\anaconda3\\envs\\projects\\lib\\site-packages (from ipython>=5.3.0->pyvis) (0.4.6)\n",
      "Requirement already satisfied: MarkupSafe>=2.0 in c:\\users\\diego\\anaconda3\\envs\\projects\\lib\\site-packages (from jinja2>=2.9.6->pyvis) (2.1.3)\n",
      "Requirement already satisfied: parso<0.9.0,>=0.8.3 in c:\\users\\diego\\anaconda3\\envs\\projects\\lib\\site-packages (from jedi>=0.16->ipython>=5.3.0->pyvis) (0.8.3)\n",
      "Requirement already satisfied: wcwidth in c:\\users\\diego\\anaconda3\\envs\\projects\\lib\\site-packages (from prompt-toolkit!=3.0.37,<3.1.0,>=3.0.30->ipython>=5.3.0->pyvis) (0.2.6)\n",
      "Requirement already satisfied: executing>=1.2.0 in c:\\users\\diego\\anaconda3\\envs\\projects\\lib\\site-packages (from stack-data->ipython>=5.3.0->pyvis) (1.2.0)\n",
      "Requirement already satisfied: asttokens>=2.1.0 in c:\\users\\diego\\anaconda3\\envs\\projects\\lib\\site-packages (from stack-data->ipython>=5.3.0->pyvis) (2.4.0)\n",
      "Requirement already satisfied: pure-eval in c:\\users\\diego\\anaconda3\\envs\\projects\\lib\\site-packages (from stack-data->ipython>=5.3.0->pyvis) (0.2.2)\n",
      "Requirement already satisfied: six>=1.12.0 in c:\\users\\diego\\anaconda3\\envs\\projects\\lib\\site-packages (from asttokens>=2.1.0->stack-data->ipython>=5.3.0->pyvis) (1.16.0)\n"
     ]
    }
   ],
   "source": [
    "!pip install pyvis"
   ]
  },
  {
   "cell_type": "code",
   "execution_count": 8,
   "id": "ab614112-baba-4d04-8482-f7831bd87b08",
   "metadata": {
    "tags": []
   },
   "outputs": [
    {
     "ename": "ModuleNotFoundError",
     "evalue": "No module named 'vis'",
     "output_type": "error",
     "traceback": [
      "\u001b[1;31m---------------------------------------------------------------------------\u001b[0m",
      "\u001b[1;31mModuleNotFoundError\u001b[0m                       Traceback (most recent call last)",
      "Cell \u001b[1;32mIn[8], line 5\u001b[0m\n\u001b[0;32m      3\u001b[0m \u001b[38;5;28;01mimport\u001b[39;00m \u001b[38;5;21;01mipywidgets\u001b[39;00m \u001b[38;5;28;01mas\u001b[39;00m \u001b[38;5;21;01mwidgets\u001b[39;00m\n\u001b[0;32m      4\u001b[0m \u001b[38;5;28;01mfrom\u001b[39;00m \u001b[38;5;21;01mIPython\u001b[39;00m\u001b[38;5;21;01m.\u001b[39;00m\u001b[38;5;21;01mdisplay\u001b[39;00m \u001b[38;5;28;01mimport\u001b[39;00m display\n\u001b[1;32m----> 5\u001b[0m \u001b[38;5;28;01mfrom\u001b[39;00m \u001b[38;5;21;01mvis\u001b[39;00m\u001b[38;5;21;01m.\u001b[39;00m\u001b[38;5;21;01mnetwork\u001b[39;00m \u001b[38;5;28;01mimport\u001b[39;00m Network\n",
      "\u001b[1;31mModuleNotFoundError\u001b[0m: No module named 'vis'"
     ]
    }
   ],
   "source": [
    "import pandas as pd\n",
    "import networkx as nx\n",
    "import ipywidgets as widgets\n",
    "from IPython.display import display\n",
    "from vis.network import Network"
   ]
  },
  {
   "cell_type": "code",
   "execution_count": 9,
   "id": "39f24aa9-3f70-418b-998e-1fd50da7b083",
   "metadata": {
    "tags": []
   },
   "outputs": [
    {
     "ename": "ModuleNotFoundError",
     "evalue": "No module named 'pyvis'",
     "output_type": "error",
     "traceback": [
      "\u001b[1;31m---------------------------------------------------------------------------\u001b[0m",
      "\u001b[1;31mModuleNotFoundError\u001b[0m                       Traceback (most recent call last)",
      "Cell \u001b[1;32mIn[9], line 3\u001b[0m\n\u001b[0;32m      1\u001b[0m \u001b[38;5;28;01mimport\u001b[39;00m \u001b[38;5;21;01mpandas\u001b[39;00m \u001b[38;5;28;01mas\u001b[39;00m \u001b[38;5;21;01mpd\u001b[39;00m\n\u001b[0;32m      2\u001b[0m \u001b[38;5;28;01mimport\u001b[39;00m \u001b[38;5;21;01mnetworkx\u001b[39;00m \u001b[38;5;28;01mas\u001b[39;00m \u001b[38;5;21;01mnx\u001b[39;00m\n\u001b[1;32m----> 3\u001b[0m \u001b[38;5;28;01mfrom\u001b[39;00m \u001b[38;5;21;01mpyvis\u001b[39;00m\u001b[38;5;21;01m.\u001b[39;00m\u001b[38;5;21;01mnetwork\u001b[39;00m \u001b[38;5;28;01mimport\u001b[39;00m Network\n",
      "\u001b[1;31mModuleNotFoundError\u001b[0m: No module named 'pyvis'"
     ]
    }
   ],
   "source": [
    "import pandas as pd\n",
    "import networkx as nx\n",
    "from pyvis.network import Network\n"
   ]
  },
  {
   "cell_type": "code",
   "execution_count": 4,
   "id": "1ae4804c-f5c7-4f56-9160-ec6774b90753",
   "metadata": {
    "tags": []
   },
   "outputs": [],
   "source": [
    "driver = GraphDatabase.driver(f\"bolt://localhost:7687\", auth=('neo4j', '12345678'), \n",
    "# database=\"data_public\"\n",
    "                                ) \n",
    "    "
   ]
  },
  {
   "cell_type": "code",
   "execution_count": null,
   "id": "9248dc40-296e-4c68-9fc6-4ce2835c2f74",
   "metadata": {},
   "outputs": [],
   "source": [
    "# CREATE FULLTEXT INDEX relacionindexobjeto FOR ()-[r:PROVEEDOR]-() on EACH [r.Objeto]"
   ]
  },
  {
   "cell_type": "code",
   "execution_count": 28,
   "id": "1471c8c2-67c4-422e-9345-32a1c3bcc581",
   "metadata": {
    "tags": []
   },
   "outputs": [],
   "source": [
    "                        \n",
    "with driver.session() as session:\n",
    "    result = session.run(\n",
    "        \"\"\"\n",
    "    CALL db.index.fulltext.queryRelationships(\"relacionindexobjeto\", \"Hidroelectrica\") YIELD relationship, score\n",
    "    MATCH (startNode)-[relationship]->(endNode)\n",
    "    RETURN startNode.ruc as ruc_proveedor,startNode.tipo, endNode.ruc as ruc_ep, relationship.description_cpc, relationship.Objeto as objeto, score\n",
    "\n",
    "        \"\"\"\n",
    "    )\n",
    "    \n",
    "    rows = []\n",
    "    for record in result:\n",
    "      row = {\n",
    "          \"ruc_proveedor\": record[\"ruc_proveedor\"],\n",
    "          \"ruc_ep\": record[\"ruc_ep\"],\n",
    "          \"objeto\": record[\"objeto\"],\n",
    "      }\n",
    "      rows.append(row)\n",
    "      \n",
    "      df = pd.DataFrame(rows)"
   ]
  },
  {
   "cell_type": "code",
   "execution_count": 29,
   "id": "519fce87-fafc-44c0-be40-84ee451573fb",
   "metadata": {
    "tags": []
   },
   "outputs": [
    {
     "data": {
      "text/html": [
       "<div>\n",
       "<style scoped>\n",
       "    .dataframe tbody tr th:only-of-type {\n",
       "        vertical-align: middle;\n",
       "    }\n",
       "\n",
       "    .dataframe tbody tr th {\n",
       "        vertical-align: top;\n",
       "    }\n",
       "\n",
       "    .dataframe thead th {\n",
       "        text-align: right;\n",
       "    }\n",
       "</style>\n",
       "<table border=\"1\" class=\"dataframe\">\n",
       "  <thead>\n",
       "    <tr style=\"text-align: right;\">\n",
       "      <th></th>\n",
       "      <th>ruc_proveedor</th>\n",
       "      <th>ruc_ep</th>\n",
       "      <th>objeto</th>\n",
       "    </tr>\n",
       "  </thead>\n",
       "  <tbody>\n",
       "    <tr>\n",
       "      <th>0</th>\n",
       "      <td>1707321897001</td>\n",
       "      <td>1790053881001</td>\n",
       "      <td>CONTRATACION DE OBRAS CIVILES EN LA CENTRAL HI...</td>\n",
       "    </tr>\n",
       "    <tr>\n",
       "      <th>1</th>\n",
       "      <td>1707321897001</td>\n",
       "      <td>1790053881001</td>\n",
       "      <td>CONTRATACION DE OBRAS CIVILES EN LA CENTRAL HI...</td>\n",
       "    </tr>\n",
       "    <tr>\n",
       "      <th>2</th>\n",
       "      <td>1791773098001</td>\n",
       "      <td>17681528000017</td>\n",
       "      <td>ADQUISICION DE HERRAMIENTAS MENORES PARA LA CE...</td>\n",
       "    </tr>\n",
       "    <tr>\n",
       "      <th>3</th>\n",
       "      <td>1791773098001</td>\n",
       "      <td>17681528000017</td>\n",
       "      <td>ADQUISICION DE REPUESTOS ELECTRICOS PARA LA CE...</td>\n",
       "    </tr>\n",
       "    <tr>\n",
       "      <th>4</th>\n",
       "      <td>1707321897001</td>\n",
       "      <td>1790053881001</td>\n",
       "      <td>CONTRATACION DE OBRAS CIVILES EN LA CENTRAL HI...</td>\n",
       "    </tr>\n",
       "    <tr>\n",
       "      <th>...</th>\n",
       "      <td>...</td>\n",
       "      <td>...</td>\n",
       "      <td>...</td>\n",
       "    </tr>\n",
       "    <tr>\n",
       "      <th>505</th>\n",
       "      <td>0190433579001</td>\n",
       "      <td>1768152800001</td>\n",
       "      <td>GSR ADQUISICION DE POSTES ECOLOGICOS PARA LA I...</td>\n",
       "    </tr>\n",
       "    <tr>\n",
       "      <th>506</th>\n",
       "      <td>1793044069001</td>\n",
       "      <td>1768152990001</td>\n",
       "      <td>CONSULTORIA PARA ELABORACION DE ESTUDIOS DE IN...</td>\n",
       "    </tr>\n",
       "    <tr>\n",
       "      <th>507</th>\n",
       "      <td>1793044069001</td>\n",
       "      <td>1768152990001</td>\n",
       "      <td>CONSULTORIA PARA ELABORACION DE ESTUDIOS DE IN...</td>\n",
       "    </tr>\n",
       "    <tr>\n",
       "      <th>508</th>\n",
       "      <td>1793044069001</td>\n",
       "      <td>1768152990001</td>\n",
       "      <td>CONSULTORIA PARA ELABORACION DE ESTUDIOS DE IN...</td>\n",
       "    </tr>\n",
       "    <tr>\n",
       "      <th>509</th>\n",
       "      <td>1793044069001</td>\n",
       "      <td>1768152990001</td>\n",
       "      <td>CONSULTORIA PARA ELABORACION DE ESTUDIOS DE IN...</td>\n",
       "    </tr>\n",
       "  </tbody>\n",
       "</table>\n",
       "<p>510 rows × 3 columns</p>\n",
       "</div>"
      ],
      "text/plain": [
       "     ruc_proveedor          ruc_ep  \\\n",
       "0    1707321897001   1790053881001   \n",
       "1    1707321897001   1790053881001   \n",
       "2    1791773098001  17681528000017   \n",
       "3    1791773098001  17681528000017   \n",
       "4    1707321897001   1790053881001   \n",
       "..             ...             ...   \n",
       "505  0190433579001   1768152800001   \n",
       "506  1793044069001   1768152990001   \n",
       "507  1793044069001   1768152990001   \n",
       "508  1793044069001   1768152990001   \n",
       "509  1793044069001   1768152990001   \n",
       "\n",
       "                                                objeto  \n",
       "0    CONTRATACION DE OBRAS CIVILES EN LA CENTRAL HI...  \n",
       "1    CONTRATACION DE OBRAS CIVILES EN LA CENTRAL HI...  \n",
       "2    ADQUISICION DE HERRAMIENTAS MENORES PARA LA CE...  \n",
       "3    ADQUISICION DE REPUESTOS ELECTRICOS PARA LA CE...  \n",
       "4    CONTRATACION DE OBRAS CIVILES EN LA CENTRAL HI...  \n",
       "..                                                 ...  \n",
       "505  GSR ADQUISICION DE POSTES ECOLOGICOS PARA LA I...  \n",
       "506  CONSULTORIA PARA ELABORACION DE ESTUDIOS DE IN...  \n",
       "507  CONSULTORIA PARA ELABORACION DE ESTUDIOS DE IN...  \n",
       "508  CONSULTORIA PARA ELABORACION DE ESTUDIOS DE IN...  \n",
       "509  CONSULTORIA PARA ELABORACION DE ESTUDIOS DE IN...  \n",
       "\n",
       "[510 rows x 3 columns]"
      ]
     },
     "execution_count": 29,
     "metadata": {},
     "output_type": "execute_result"
    }
   ],
   "source": [
    "df"
   ]
  },
  {
   "cell_type": "code",
   "execution_count": 2,
   "id": "96b2b5fc-9b51-49ad-82b4-0063861ee501",
   "metadata": {
    "tags": []
   },
   "outputs": [],
   "source": [
    "                          ) \n",
    "with driver.session() as session:\n",
    "    result = session.run(\n",
    "        \"\"\"\n",
    "      MATCH (n) RETURN n.ruc AS Accionista_ruc, n.nombre AS Accionista_nombre  LIMIT 10\n",
    "  \n",
    "        \"\"\"\n",
    "    )\n",
    "    \n",
    "    rows = []\n",
    "    for record in result:\n",
    "      row = {\n",
    "          \"RUC Accionista\": record[\"Accionista_ruc\"],\n",
    "          \"Nombre\": record[\"Accionista_nombre\"],\n",
    "      }\n",
    "      rows.append(row)\n",
    "      \n",
    "      df = pd.DataFrame(rows)"
   ]
  },
  {
   "cell_type": "code",
   "execution_count": null,
   "id": "0b75c1b8-30f4-4cac-8674-ba537a88726d",
   "metadata": {},
   "outputs": [],
   "source": []
  },
  {
   "cell_type": "code",
   "execution_count": 3,
   "id": "067b4933-3805-48a0-a37f-8271ce5dd420",
   "metadata": {
    "tags": []
   },
   "outputs": [
    {
     "data": {
      "text/html": [
       "<div>\n",
       "<style scoped>\n",
       "    .dataframe tbody tr th:only-of-type {\n",
       "        vertical-align: middle;\n",
       "    }\n",
       "\n",
       "    .dataframe tbody tr th {\n",
       "        vertical-align: top;\n",
       "    }\n",
       "\n",
       "    .dataframe thead th {\n",
       "        text-align: right;\n",
       "    }\n",
       "</style>\n",
       "<table border=\"1\" class=\"dataframe\">\n",
       "  <thead>\n",
       "    <tr style=\"text-align: right;\">\n",
       "      <th></th>\n",
       "      <th>RUC Accionista</th>\n",
       "      <th>Nombre</th>\n",
       "    </tr>\n",
       "  </thead>\n",
       "  <tbody>\n",
       "    <tr>\n",
       "      <th>0</th>\n",
       "      <td>105715924</td>\n",
       "      <td>MERCHAN ALVAREZ PAOLA DANIELA</td>\n",
       "    </tr>\n",
       "    <tr>\n",
       "      <th>1</th>\n",
       "      <td>103627725</td>\n",
       "      <td>MERCHAN BORRERO ANA ISABEL</td>\n",
       "    </tr>\n",
       "    <tr>\n",
       "      <th>2</th>\n",
       "      <td>100875905</td>\n",
       "      <td>MERCHAN LUCO MARINA DOLORES</td>\n",
       "    </tr>\n",
       "    <tr>\n",
       "      <th>3</th>\n",
       "      <td>101045797</td>\n",
       "      <td>MERCHAN LUCO MIGUEL MARINO</td>\n",
       "    </tr>\n",
       "    <tr>\n",
       "      <th>4</th>\n",
       "      <td>100923812</td>\n",
       "      <td>MERCHAN LUCO RITA MARIA</td>\n",
       "    </tr>\n",
       "    <tr>\n",
       "      <th>5</th>\n",
       "      <td>104160619</td>\n",
       "      <td>MERCHAN MALDONADO JUAN SEBASTIAN</td>\n",
       "    </tr>\n",
       "    <tr>\n",
       "      <th>6</th>\n",
       "      <td>102146966</td>\n",
       "      <td>MERCHAN VINTIMILLA CARMEN MARINA</td>\n",
       "    </tr>\n",
       "    <tr>\n",
       "      <th>7</th>\n",
       "      <td>101693778</td>\n",
       "      <td>MERCHAN VINTIMILLA RENE FELIPE</td>\n",
       "    </tr>\n",
       "    <tr>\n",
       "      <th>8</th>\n",
       "      <td>102360021</td>\n",
       "      <td>MERCHAN VINTIMILLA XAVIER</td>\n",
       "    </tr>\n",
       "    <tr>\n",
       "      <th>9</th>\n",
       "      <td>102523313</td>\n",
       "      <td>PROAÑO MERCHAN CHRISTIAN ANDRES</td>\n",
       "    </tr>\n",
       "  </tbody>\n",
       "</table>\n",
       "</div>"
      ],
      "text/plain": [
       "  RUC Accionista                            Nombre\n",
       "0      105715924     MERCHAN ALVAREZ PAOLA DANIELA\n",
       "1      103627725        MERCHAN BORRERO ANA ISABEL\n",
       "2      100875905       MERCHAN LUCO MARINA DOLORES\n",
       "3      101045797        MERCHAN LUCO MIGUEL MARINO\n",
       "4      100923812           MERCHAN LUCO RITA MARIA\n",
       "5      104160619  MERCHAN MALDONADO JUAN SEBASTIAN\n",
       "6      102146966  MERCHAN VINTIMILLA CARMEN MARINA\n",
       "7      101693778    MERCHAN VINTIMILLA RENE FELIPE\n",
       "8      102360021         MERCHAN VINTIMILLA XAVIER\n",
       "9      102523313   PROAÑO MERCHAN CHRISTIAN ANDRES"
      ]
     },
     "execution_count": 3,
     "metadata": {},
     "output_type": "execute_result"
    }
   ],
   "source": [
    "df"
   ]
  },
  {
   "cell_type": "code",
   "execution_count": null,
   "id": "8c280fbc-042e-46a6-8c5a-62ec73a92ebf",
   "metadata": {},
   "outputs": [],
   "source": [
    "\n",
    "\n",
    "# Abre una sesión\n",
    "with driver.session() as session:\n",
    "    result = session.run(\"CALL dbms.components() YIELD name, versions RETURN name, versions\")\n",
    "    \n",
    "    for record in result:\n",
    "        print(f\"{record['name']}: {record['versions'][0]}\")\n",
    "\n",
    "# Abre una sesión\n",
    "with driver.session() as session:\n",
    "    result = session.run(\n",
    "      \n",
    "      \"\"\"\n",
    "      CALL db.index.fulltext.createNodeIndex(\"businessNameIndex\", [\"Accionista\"], [\"nombre\"])\n",
    "      CALL dbms.components() YIELD name, versions RETURN name, versions\n",
    "      \n",
    "      \"\"\"\n",
    "      )\n",
    "    "
   ]
  }
 ],
 "metadata": {
  "kernelspec": {
   "display_name": "Python 3 (ipykernel)",
   "language": "python",
   "name": "python3"
  },
  "language_info": {
   "codemirror_mode": {
    "name": "ipython",
    "version": 3
   },
   "file_extension": ".py",
   "mimetype": "text/x-python",
   "name": "python",
   "nbconvert_exporter": "python",
   "pygments_lexer": "ipython3",
   "version": "3.11.4"
  }
 },
 "nbformat": 4,
 "nbformat_minor": 5
}
